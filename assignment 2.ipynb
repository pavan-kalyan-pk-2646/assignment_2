{
 "cells": [
  {
   "cell_type": "code",
   "execution_count": 2,
   "id": "ea7729ed-2fa4-49a1-90d1-aeac11f4eef2",
   "metadata": {},
   "outputs": [],
   "source": [
    "import pandas as pd\n"
   ]
  },
  {
   "cell_type": "markdown",
   "id": "d52d82d2-b44e-44d1-b491-33ab375c37e3",
   "metadata": {},
   "source": [
    "## PART 1- BASIC EXPLORATION"
   ]
  },
  {
   "cell_type": "code",
   "execution_count": 3,
   "id": "cbb43ede-eecd-4a73-90ee-a6641e365f0a",
   "metadata": {
    "scrolled": true
   },
   "outputs": [
    {
     "name": "stdout",
     "output_type": "stream",
     "text": [
      "Shape: (100, 14)\n",
      "Data types and info:\n",
      "<class 'pandas.core.frame.DataFrame'>\n",
      "RangeIndex: 100 entries, 0 to 99\n",
      "Data columns (total 14 columns):\n",
      " #   Column    Non-Null Count  Dtype \n",
      "---  ------    --------------  ----- \n",
      " 0   store_id  100 non-null    object\n",
      " 1   city      100 non-null    object\n",
      " 2   Jan       100 non-null    int64 \n",
      " 3   Feb       100 non-null    int64 \n",
      " 4   Mar       100 non-null    int64 \n",
      " 5   Apr       100 non-null    int64 \n",
      " 6   May       100 non-null    int64 \n",
      " 7   Jun       100 non-null    int64 \n",
      " 8   July      100 non-null    int64 \n",
      " 9   Aug       100 non-null    int64 \n",
      " 10  Sep       100 non-null    int64 \n",
      " 11  Oct       100 non-null    int64 \n",
      " 12  Nov       100 non-null    int64 \n",
      " 13  Dec       100 non-null    int64 \n",
      "dtypes: int64(12), object(2)\n",
      "memory usage: 11.1+ KB\n",
      "None\n",
      "Columns: Index(['store_id', 'city', 'Jan', 'Feb', 'Mar', 'Apr', 'May', 'Jun', 'July',\n",
      "       'Aug', 'Sep', 'Oct', 'Nov', 'Dec'],\n",
      "      dtype='object')\n",
      "Summary statistics:\n",
      "               Jan         Feb         Mar         Apr         May         Jun  \\\n",
      "count  100.000000  100.000000  100.000000  100.000000  100.000000  100.000000   \n",
      "mean    14.460000   15.090000   14.560000   14.570000   13.560000   13.800000   \n",
      "std      5.712683    6.055459    5.782803    4.965039    5.883241    5.962848   \n",
      "min      5.000000    5.000000    5.000000    5.000000    5.000000    5.000000   \n",
      "25%     10.000000    9.000000    9.750000   11.000000    8.000000    9.000000   \n",
      "50%     15.000000   16.000000   15.000000   14.500000   13.000000   13.500000   \n",
      "75%     19.000000   21.000000   19.250000   19.000000   19.000000   19.000000   \n",
      "max     24.000000   24.000000   24.000000   24.000000   24.000000   24.000000   \n",
      "\n",
      "             July         Aug         Sep        Oct         Nov         Dec  \n",
      "count  100.000000  100.000000  100.000000  100.00000  100.000000  100.000000  \n",
      "mean    14.380000   15.810000   14.910000   14.10000   15.310000   13.570000  \n",
      "std      5.566458    6.152432    5.284043    5.87496    6.461533    5.852143  \n",
      "min      5.000000    5.000000    5.000000    5.00000    5.000000    5.000000  \n",
      "25%     10.000000   11.000000   11.000000    9.00000   10.000000    8.000000  \n",
      "50%     15.000000   17.000000   14.500000   14.00000   16.000000   13.000000  \n",
      "75%     19.000000   21.000000   19.000000   19.00000   21.250000   19.000000  \n",
      "max     24.000000   24.000000   24.000000   24.00000   24.000000   24.000000  \n",
      "Total sales per month:\n",
      " Jan    1446\n",
      "Feb    1509\n",
      "Mar    1456\n",
      "Apr    1457\n",
      "dtype: int64\n",
      "Average sales per month:\n",
      " Jan    14.46\n",
      "Feb    15.09\n",
      "Mar    14.56\n",
      "Apr    14.57\n",
      "dtype: float64\n",
      "Total yearly sales for all stores: 5868\n"
     ]
    }
   ],
   "source": [
    "\n",
    "# ⿡ Load dataset\n",
    "sales_df = pd.read_csv(\"C:/Users/namei/Downloads/datasets-main/datasets-main/store_sales (1).csv\")\n",
    "sales_df.head()  # First 5 rows\n",
    "\n",
    "# ⿢ Last 5 rows\n",
    "sales_df.tail()\n",
    "\n",
    "# ⿣ Shape, data types, non-null counts\n",
    "print(\"Shape:\", sales_df.shape)\n",
    "print(\"Data types and info:\")\n",
    "print(sales_df.info())\n",
    "\n",
    "# ⿤ Column names and summary statistics\n",
    "print(\"Columns:\", sales_df.columns)\n",
    "print(\"Summary statistics:\\n\", sales_df.describe())\n",
    "\n",
    "# ⿥ Total and average sales per month\n",
    "months = ['Jan','Feb','Mar','Apr']\n",
    "print(\"Total sales per month:\\n\", sales_df[months].sum())\n",
    "print(\"Average sales per month:\\n\", sales_df[months].mean())\n",
    "\n",
    "# ⿦ Total yearly sales for all stores\n",
    "sales_df['Total_Yearly_Sales'] = sales_df[months].sum(axis=1)\n",
    "print(\"Total yearly sales for all stores:\", sales_df['Total_Yearly_Sales'].sum())\n"
   ]
  }
 ],
 "metadata": {
  "kernelspec": {
   "display_name": "Python [conda env:base] *",
   "language": "python",
   "name": "conda-base-py"
  },
  "language_info": {
   "codemirror_mode": {
    "name": "ipython",
    "version": 3
   },
   "file_extension": ".py",
   "mimetype": "text/x-python",
   "name": "python",
   "nbconvert_exporter": "python",
   "pygments_lexer": "ipython3",
   "version": "3.13.5"
  }
 },
 "nbformat": 4,
 "nbformat_minor": 5
}
